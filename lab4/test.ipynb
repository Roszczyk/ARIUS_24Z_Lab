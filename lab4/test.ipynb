{
 "cells": [
  {
   "cell_type": "code",
   "execution_count": 1,
   "metadata": {},
   "outputs": [],
   "source": [
    "import requests\n",
    "import json"
   ]
  },
  {
   "cell_type": "markdown",
   "metadata": {},
   "source": [
    "## Wypisanie listy nauczycieli"
   ]
  },
  {
   "cell_type": "code",
   "execution_count": 15,
   "metadata": {},
   "outputs": [
    {
     "name": "stdout",
     "output_type": "stream",
     "text": [
      "{'id': 1, 'imie': 'Anna', 'nazwisko': 'Kowalska', 'przedmioty': ['fizyka', 'matematyka']}\n",
      "{'id': 2, 'imie': 'Jan', 'nazwisko': 'Nowak', 'przedmioty': ['chemia', 'biologia']}\n",
      "{'id': 3, 'imie': 'Walter', 'nazwisko': 'White', 'przedmioty': ['chemia']}\n",
      "{'id': 4, 'imie': 'Kazimiera', 'nazwisko': 'Solejuk', 'przedmioty': ['historia', 'WoS']}\n",
      "{'id': 5, 'imie': 'Patrycja', 'nazwisko': 'Dąbrowska', 'przedmioty': ['geography', 'biologia']}\n"
     ]
    }
   ],
   "source": [
    "url = \"http://127.0.0.1:5000/teacher-list\"\n",
    "r = requests.get(url).json()\n",
    "for teacher in r:\n",
    "    print(teacher)"
   ]
  },
  {
   "cell_type": "markdown",
   "metadata": {},
   "source": [
    "## Wypisanie danych o nauczycielu"
   ]
  },
  {
   "cell_type": "code",
   "execution_count": 16,
   "metadata": {},
   "outputs": [
    {
     "name": "stdout",
     "output_type": "stream",
     "text": [
      "email : ww@heisenberg.com\n",
      "imie : Walter\n",
      "kalendarz : {'do': '20:00', 'od': '14:00'}\n",
      "nazwisko : White\n",
      "ocena : 5.0\n",
      "opis : nauczyciel chemii i biznesmen\n",
      "przedmioty : ['chemia']\n",
      "stawka : 100\n",
      "telefon : 666666666\n",
      "waluta : USD\n"
     ]
    }
   ],
   "source": [
    "url = \"http://127.0.0.1:5000/teacher-details/3\"\n",
    "r = requests.get(url).json()\n",
    "for key in r.keys():\n",
    "    print(f\"{key} : {r[key]}\")"
   ]
  },
  {
   "cell_type": "markdown",
   "metadata": {},
   "source": [
    "## Rezerwacja lekcji"
   ]
  },
  {
   "cell_type": "markdown",
   "metadata": {},
   "source": [
    "Sukces w rezerwacji terminu:"
   ]
  },
  {
   "cell_type": "code",
   "execution_count": 17,
   "metadata": {},
   "outputs": [
    {
     "name": "stdout",
     "output_type": "stream",
     "text": [
      "{\n",
      "  \"message\": \"Rezerwacja zakonczona sukcesem!\"\n",
      "}\n",
      "\n",
      "201\n"
     ]
    }
   ],
   "source": [
    "from datetime import datetime\n",
    "\n",
    "url = \"http://127.0.0.1:5000/book-lesson\"\n",
    "headers = {'Authorization' : 'Mikolaj Roszczyk'}\n",
    "\n",
    "STUDENT = 1\n",
    "TEACHER = 3\n",
    "TIME = datetime(2024,12,15,19,00).strftime(\"%Y-%m-%d %H:%M\")\n",
    "SUBJECT = 3\n",
    "\n",
    "args = {\n",
    "    'student-id' : STUDENT,\n",
    "    'teacher-id' : TEACHER,\n",
    "    'when' : TIME,\n",
    "    'subject-id' : SUBJECT\n",
    "}\n",
    "r = requests.post(url, headers=headers, json=args)\n",
    "\n",
    "print(r.text)\n",
    "print(r.status_code)"
   ]
  },
  {
   "cell_type": "markdown",
   "metadata": {},
   "source": [
    "Nauczyciel nie naucza przedmiotu:"
   ]
  },
  {
   "cell_type": "code",
   "execution_count": 5,
   "metadata": {},
   "outputs": [
    {
     "name": "stdout",
     "output_type": "stream",
     "text": [
      "{\n",
      "  \"Error\": \"Nauczyciel Walter White nie naucza matematyka\"\n",
      "}\n",
      "\n",
      "400\n"
     ]
    }
   ],
   "source": [
    "from datetime import datetime\n",
    "\n",
    "url = \"http://127.0.0.1:5000/book-lesson\"\n",
    "headers = {'Authorization' : 'Mikolaj Roszczyk'}\n",
    "\n",
    "STUDENT = 1\n",
    "TEACHER = 3\n",
    "TIME = datetime(2024,12,15,17,00).strftime(\"%Y-%m-%d %H:%M\")\n",
    "SUBJECT = 1\n",
    "\n",
    "args = {\n",
    "    'student-id' : STUDENT,\n",
    "    'teacher-id' : TEACHER,\n",
    "    'when' : TIME,\n",
    "    'subject-id' : SUBJECT\n",
    "}\n",
    "r = requests.post(url, headers=headers, json=args)\n",
    "\n",
    "print(r.text)\n",
    "print(r.status_code)"
   ]
  },
  {
   "cell_type": "markdown",
   "metadata": {},
   "source": [
    "Termin już zarezerwowany:"
   ]
  },
  {
   "cell_type": "code",
   "execution_count": null,
   "metadata": {},
   "outputs": [
    {
     "name": "stdout",
     "output_type": "stream",
     "text": [
      "{\n",
      "  \"Error\": \"Podany termin (2024-12-15 18:00:00) jest juz zarezerwowany\"\n",
      "}\n",
      "\n",
      "400\n"
     ]
    }
   ],
   "source": [
    "from datetime import datetime\n",
    "\n",
    "url = \"http://127.0.0.1:5000/book-lesson\"\n",
    "headers = {'Authorization' : 'Mikolaj Roszczyk'}\n",
    "\n",
    "STUDENT = 1\n",
    "TEACHER = 3\n",
    "TIME = datetime(2024,12,15,19,00).strftime(\"%Y-%m-%d %H:%M\")\n",
    "SUBJECT = 3\n",
    "\n",
    "args = {\n",
    "    'student-id' : STUDENT,\n",
    "    'teacher-id' : TEACHER,\n",
    "    'when' : TIME,\n",
    "    'subject-id' : SUBJECT\n",
    "}\n",
    "r = requests.post(url, headers=headers, json=args)\n",
    "\n",
    "print(r.text)\n",
    "print(r.status_code)"
   ]
  },
  {
   "cell_type": "markdown",
   "metadata": {},
   "source": [
    "Próba zapisu poza godzinami pracy:"
   ]
  },
  {
   "cell_type": "code",
   "execution_count": 18,
   "metadata": {},
   "outputs": [
    {
     "name": "stdout",
     "output_type": "stream",
     "text": [
      "{\n",
      "  \"Error\": \"Walter White pracuje w godzinach 14:00:00 - 20:00:00\"\n",
      "}\n",
      "\n",
      "400\n"
     ]
    }
   ],
   "source": [
    "from datetime import datetime\n",
    "\n",
    "url = \"http://127.0.0.1:5000/book-lesson\"\n",
    "headers = {'Authorization' : 'Mikolaj Roszczyk'}\n",
    "\n",
    "STUDENT = 1\n",
    "TEACHER = 3\n",
    "TIME = datetime(2024,12,15,8,00).strftime(\"%Y-%m-%d %H:%M\")\n",
    "SUBJECT = 3\n",
    "\n",
    "args = {\n",
    "    'student-id' : STUDENT,\n",
    "    'teacher-id' : TEACHER,\n",
    "    'when' : TIME,\n",
    "    'subject-id' : SUBJECT\n",
    "}\n",
    "r = requests.post(url, headers=headers, json=args)\n",
    "\n",
    "print(r.text)\n",
    "print(r.status_code)"
   ]
  },
  {
   "cell_type": "markdown",
   "metadata": {},
   "source": [
    "## Dodawanie nauczyciela"
   ]
  },
  {
   "cell_type": "markdown",
   "metadata": {},
   "source": [
    "Sukces w dodaniu nauczyciela:"
   ]
  },
  {
   "cell_type": "code",
   "execution_count": 19,
   "metadata": {},
   "outputs": [
    {
     "name": "stdout",
     "output_type": "stream",
     "text": [
      "{\n",
      "  \"message\": \"Nauczyciel Mike Ehrmantraut dodany. Teacher ID: 6\"\n",
      "}\n",
      "\n",
      "201\n"
     ]
    }
   ],
   "source": [
    "from datetime import datetime\n",
    "\n",
    "url = \"http://127.0.0.1:5000/add-teacher\"\n",
    "headers = {'Authorization' : 'Mikolaj Roszczyk'}\n",
    "\n",
    "NAME = 'Mike'\n",
    "SURNAME = 'Ehrmantraut'\n",
    "DESCRIPTION = 'Specjalista od zadań specjalnych'\n",
    "GRADE = 5.0\n",
    "PHONE = '999999999'\n",
    "EARNINGS = 5000\n",
    "CURRENCY = 'PLN'\n",
    "EMAIL = 'security@lospollos.com'\n",
    "SUBJECTS = '1,2'\n",
    "WORKS_FROM = '08:00'\n",
    "WORKS_TO = '16:00'\n",
    "\n",
    "# Przygotowanie danych w formie args\n",
    "args = {\n",
    "    'name': NAME,\n",
    "    'surname': SURNAME,\n",
    "    'description': DESCRIPTION,\n",
    "    'grade': GRADE,\n",
    "    'phone': PHONE,\n",
    "    'earnings': EARNINGS,\n",
    "    'currency': CURRENCY,\n",
    "    'email': EMAIL,\n",
    "    'subjects': SUBJECTS,\n",
    "    'from': datetime.strptime(WORKS_FROM, '%H:%M').strftime('%H:%M'),\n",
    "    'to': datetime.strptime(WORKS_TO, '%H:%M').strftime('%H:%M')\n",
    "}\n",
    "\n",
    "r = requests.post(url, headers=headers, json=args)\n",
    "\n",
    "print(r.text)\n",
    "print(r.status_code)"
   ]
  },
  {
   "cell_type": "markdown",
   "metadata": {},
   "source": [
    "Niepowodzenie z powodu braku danych:"
   ]
  },
  {
   "cell_type": "code",
   "execution_count": 20,
   "metadata": {},
   "outputs": [
    {
     "name": "stdout",
     "output_type": "stream",
     "text": [
      "{\n",
      "  \"Error\": \"Brak podanego argumentu - subjects\"\n",
      "}\n",
      "\n",
      "400\n"
     ]
    }
   ],
   "source": [
    "from datetime import datetime\n",
    "\n",
    "url = \"http://127.0.0.1:5000/add-teacher\"\n",
    "headers = {'Authorization' : 'Mikolaj Roszczyk'}\n",
    "\n",
    "NAME = 'Mike'\n",
    "SURNAME = 'Ehrmantraut'\n",
    "DESCRIPTION = 'Specjalista od zadań specjalnych'\n",
    "GRADE = 5.0\n",
    "PHONE = '999999999'\n",
    "EARNINGS = 5000\n",
    "CURRENCY = 'PLN'\n",
    "EMAIL = 'security@lospollos.com'\n",
    "SUBJECTS = '1,2'\n",
    "WORKS_FROM = '08:00'\n",
    "WORKS_TO = '16:00'\n",
    "\n",
    "# Przygotowanie danych w formie args\n",
    "args = {\n",
    "    'name': NAME,\n",
    "    'surname': SURNAME,\n",
    "    'description': DESCRIPTION,\n",
    "    'grade': GRADE,\n",
    "    'phone': PHONE,\n",
    "    'earnings': EARNINGS,\n",
    "    'currency': CURRENCY,\n",
    "    'email': EMAIL,\n",
    "    'from': datetime.strptime(WORKS_FROM, '%H:%M').strftime('%H:%M'),\n",
    "    'to': datetime.strptime(WORKS_TO, '%H:%M').strftime('%H:%M')\n",
    "}\n",
    "\n",
    "r = requests.post(url, headers=headers, json=args)\n",
    "\n",
    "print(r.text)\n",
    "print(r.status_code)"
   ]
  },
  {
   "cell_type": "markdown",
   "metadata": {},
   "source": [
    "Niepowodzenie z powodu złej wartości oceny:"
   ]
  },
  {
   "cell_type": "code",
   "execution_count": 10,
   "metadata": {},
   "outputs": [
    {
     "name": "stdout",
     "output_type": "stream",
     "text": [
      "{\n",
      "  \"Error\": \"Grade musi byc w zakresie <1,5>\"\n",
      "}\n",
      "\n",
      "400\n"
     ]
    }
   ],
   "source": [
    "from datetime import datetime\n",
    "\n",
    "url = \"http://127.0.0.1:5000/add-teacher\"\n",
    "headers = {'Authorization' : 'Mikolaj Roszczyk'}\n",
    "\n",
    "NAME = 'Mike'\n",
    "SURNAME = 'Ehrmantraut'\n",
    "DESCRIPTION = 'Specjalista od zadań specjalnych'\n",
    "GRADE = 99\n",
    "PHONE = '999999999'\n",
    "EARNINGS = 5000\n",
    "CURRENCY = 'PLN'\n",
    "EMAIL = 'security@lospollos.com'\n",
    "SUBJECTS = '1,2'\n",
    "WORKS_FROM = '08:00'\n",
    "WORKS_TO = '16:00'\n",
    "\n",
    "# Przygotowanie danych w formie args\n",
    "args = {\n",
    "    'name': NAME,\n",
    "    'surname': SURNAME,\n",
    "    'description': DESCRIPTION,\n",
    "    'grade': GRADE,\n",
    "    'phone': PHONE,\n",
    "    'earnings': EARNINGS,\n",
    "    'currency': CURRENCY,\n",
    "    'email': EMAIL,\n",
    "    'subjects': SUBJECTS,\n",
    "    'from': datetime.strptime(WORKS_FROM, '%H:%M').strftime('%H:%M'),\n",
    "    'to': datetime.strptime(WORKS_TO, '%H:%M').strftime('%H:%M')\n",
    "}\n",
    "\n",
    "r = requests.post(url, headers=headers, json=args)\n",
    "\n",
    "print(r.text)\n",
    "print(r.status_code)"
   ]
  },
  {
   "cell_type": "markdown",
   "metadata": {},
   "source": [
    "Nauczyciel już istnieje:"
   ]
  },
  {
   "cell_type": "code",
   "execution_count": 11,
   "metadata": {},
   "outputs": [
    {
     "name": "stdout",
     "output_type": "stream",
     "text": [
      "{\n",
      "  \"Error\": \"Mike Ehrmantraut juz istnieje\"\n",
      "}\n",
      "\n",
      "400\n"
     ]
    }
   ],
   "source": [
    "from datetime import datetime\n",
    "\n",
    "url = \"http://127.0.0.1:5000/add-teacher\"\n",
    "headers = {'Authorization' : 'Mikolaj Roszczyk'}\n",
    "\n",
    "NAME = 'Mike'\n",
    "SURNAME = 'Ehrmantraut'\n",
    "DESCRIPTION = 'Specjalista od zadań specjalnych'\n",
    "GRADE = 5.0\n",
    "PHONE = '999999999'\n",
    "EARNINGS = 5000\n",
    "CURRENCY = 'PLN'\n",
    "EMAIL = 'security@lospollos.com'\n",
    "SUBJECTS = '1,2'\n",
    "WORKS_FROM = '08:00'\n",
    "WORKS_TO = '16:00'\n",
    "\n",
    "# Przygotowanie danych w formie args\n",
    "args = {\n",
    "    'name': NAME,\n",
    "    'surname': SURNAME,\n",
    "    'description': DESCRIPTION,\n",
    "    'grade': GRADE,\n",
    "    'phone': PHONE,\n",
    "    'earnings': EARNINGS,\n",
    "    'currency': CURRENCY,\n",
    "    'email': EMAIL,\n",
    "    'subjects': SUBJECTS,\n",
    "    'from': datetime.strptime(WORKS_FROM, '%H:%M').strftime('%H:%M'),\n",
    "    'to': datetime.strptime(WORKS_TO, '%H:%M').strftime('%H:%M')\n",
    "}\n",
    "\n",
    "r = requests.post(url, headers=headers, json=args)\n",
    "\n",
    "print(r.text)\n",
    "print(r.status_code)"
   ]
  },
  {
   "cell_type": "markdown",
   "metadata": {},
   "source": [
    "## Pobieranie listy lekcji studenta w zakresie czasu"
   ]
  },
  {
   "cell_type": "markdown",
   "metadata": {},
   "source": [
    "Poprawne pobranie lekcji:"
   ]
  },
  {
   "cell_type": "code",
   "execution_count": 21,
   "metadata": {},
   "outputs": [
    {
     "name": "stdout",
     "output_type": "stream",
     "text": [
      "{'data': 'Mon, 09 Dec 2024 10:00:00 GMT', 'id': 1, 'id_nauczyciela': 1, 'nauczyciel': 'Anna Kowalska', 'przedmiot': 'matematyka'}\n",
      "{'data': 'Mon, 09 Dec 2024 12:00:00 GMT', 'id': 2, 'id_nauczyciela': 1, 'nauczyciel': 'Anna Kowalska', 'przedmiot': 'fizyka'}\n",
      "{'data': 'Tue, 10 Dec 2024 14:00:00 GMT', 'id': 3, 'id_nauczyciela': 2, 'nauczyciel': 'Jan Nowak', 'przedmiot': 'matematyka'}\n"
     ]
    }
   ],
   "source": [
    "url = \"http://127.0.0.1:5000/get-lessons\"\n",
    "\n",
    "STUDENT = 1\n",
    "FROM = '2024-01-10'\n",
    "TO = '2024-12-12'\n",
    "\n",
    "params = {\n",
    "    'student_id': 1,\n",
    "    'check_from': datetime.strptime(FROM, '%Y-%m-%d').strftime('%Y-%m-%d %H:%M'),\n",
    "    'check_to': datetime.strptime(TO, '%Y-%m-%d').strftime('%Y-%m-%d %H:%M')\n",
    "}\n",
    "\n",
    "r = requests.get(url, params=params).json()\n",
    "\n",
    "for lesson in r:\n",
    "    print(lesson)"
   ]
  },
  {
   "cell_type": "markdown",
   "metadata": {},
   "source": [
    "Brak podanego argumentu \"check to\":"
   ]
  },
  {
   "cell_type": "code",
   "execution_count": 22,
   "metadata": {},
   "outputs": [
    {
     "name": "stdout",
     "output_type": "stream",
     "text": [
      "Error\n"
     ]
    }
   ],
   "source": [
    "url = \"http://127.0.0.1:5000/get-lessons\"\n",
    "\n",
    "STUDENT = 1\n",
    "FROM = '2024-01-10'\n",
    "TO = '2024-12-12'\n",
    "\n",
    "params = {\n",
    "    'student_id': 1,\n",
    "    'check_from': datetime.strptime(FROM, '%Y-%m-%d').strftime('%Y-%m-%d %H:%M')\n",
    "}\n",
    "\n",
    "r = requests.get(url, params=params).json()\n",
    "\n",
    "for lesson in r:\n",
    "    print(lesson)"
   ]
  }
 ],
 "metadata": {
  "kernelspec": {
   "display_name": "flask_arius",
   "language": "python",
   "name": "python3"
  },
  "language_info": {
   "codemirror_mode": {
    "name": "ipython",
    "version": 3
   },
   "file_extension": ".py",
   "mimetype": "text/x-python",
   "name": "python",
   "nbconvert_exporter": "python",
   "pygments_lexer": "ipython3",
   "version": "3.11.9"
  }
 },
 "nbformat": 4,
 "nbformat_minor": 2
}
