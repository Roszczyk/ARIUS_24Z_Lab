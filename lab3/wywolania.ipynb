{
 "cells": [
  {
   "cell_type": "markdown",
   "metadata": {},
   "source": [
    "# Wywołania bazy danych "
   ]
  },
  {
   "cell_type": "code",
   "execution_count": 1,
   "metadata": {},
   "outputs": [],
   "source": [
    "import os\n",
    "from pathlib import Path\n",
    "os.chdir(Path(\".\"))\n",
    "\n",
    "from flask_sqlalchemy import SQLAlchemy\n",
    "from flask import Flask\n",
    "\n",
    "app = Flask(__name__)\n",
    "app.config['SQLALCHEMY_DATABASE_URI'] = 'sqlite:///database.db'\n",
    "app.config['SQLALCHEMY_TRACK_MODIFICATIONS'] = False\n",
    "\n",
    "db = SQLAlchemy()\n",
    "db.init_app(app)"
   ]
  },
  {
   "cell_type": "markdown",
   "metadata": {},
   "source": [
    "### F1 : Ilu studentów ma lekcje zarezerowane w dni powszednie\n",
    "\n",
    "Oczekiwany wynik: 2"
   ]
  },
  {
   "cell_type": "code",
   "execution_count": 2,
   "metadata": {},
   "outputs": [
    {
     "name": "stdout",
     "output_type": "stream",
     "text": [
      "2\n"
     ]
    }
   ],
   "source": [
    "from main import students_working_days\n",
    "with app.app_context():\n",
    "    print(students_working_days(db))"
   ]
  },
  {
   "cell_type": "markdown",
   "metadata": {},
   "source": [
    "### F2 : Ilu nauczycieli ma zarezerwowane lekcje w weekendy?\n",
    "\n",
    "Oczekiwany wynik: 1"
   ]
  },
  {
   "cell_type": "code",
   "execution_count": 3,
   "metadata": {},
   "outputs": [
    {
     "name": "stdout",
     "output_type": "stream",
     "text": [
      "1\n"
     ]
    }
   ],
   "source": [
    "from main import teachers_weekends\n",
    "with app.app_context():\n",
    "    print(teachers_weekends(db))"
   ]
  },
  {
   "cell_type": "markdown",
   "metadata": {},
   "source": [
    "### F3 : Który student ma najwięcej umówionych lekcji\n",
    "\n",
    "Funkcja zwraca wszystkie dane studenta, czyli:\n",
    "* identyfikator\n",
    "* imię\n",
    "* nazwisko\n",
    "* email"
   ]
  },
  {
   "cell_type": "code",
   "execution_count": 4,
   "metadata": {},
   "outputs": [
    {
     "name": "stdout",
     "output_type": "stream",
     "text": [
      "{'name': 'Anna', 'student_id': 2, 'surname': 'Kowalska', 'email': 'anna.kowalska@example.com'}\n"
     ]
    }
   ],
   "source": [
    "from main import student_most_lessons\n",
    "with app.app_context():\n",
    "    print(student_most_lessons(db))"
   ]
  },
  {
   "cell_type": "markdown",
   "metadata": {},
   "source": [
    "### F4 : Z którego przedmiotu lekcje są najczęściej omawiane?\n",
    "\n",
    "Funkcja zwraca:\n",
    "* Nazwę przedmiotu\n",
    "* Liczbę lekcji tego przedmiotu"
   ]
  },
  {
   "cell_type": "code",
   "execution_count": 5,
   "metadata": {},
   "outputs": [
    {
     "name": "stdout",
     "output_type": "stream",
     "text": [
      "{'subject_name': 'matematyka', 'quantity': 7}\n"
     ]
    }
   ],
   "source": [
    "from main import subject_most_lessons\n",
    "with app.app_context():\n",
    "    print(subject_most_lessons(db))"
   ]
  },
  {
   "cell_type": "markdown",
   "metadata": {},
   "source": [
    "### F5 : Ile jest umówionych lekcji matematyki?\n",
    "\n",
    "Oczekiwany wynik: 7"
   ]
  },
  {
   "cell_type": "code",
   "execution_count": 6,
   "metadata": {},
   "outputs": [
    {
     "name": "stdout",
     "output_type": "stream",
     "text": [
      "7\n"
     ]
    }
   ],
   "source": [
    "from main import maths_lessons\n",
    "with app.app_context():\n",
    "    print(maths_lessons(db))"
   ]
  },
  {
   "cell_type": "markdown",
   "metadata": {},
   "source": [
    "### F6 : Ile jest lekcji w środy?\n",
    "\n",
    "Oczekiwany wynik: 3"
   ]
  },
  {
   "cell_type": "code",
   "execution_count": 7,
   "metadata": {},
   "outputs": [
    {
     "name": "stdout",
     "output_type": "stream",
     "text": [
      "3\n"
     ]
    }
   ],
   "source": [
    "from main import wednesday_lessons\n",
    "with app.app_context():\n",
    "    print(wednesday_lessons(db))"
   ]
  },
  {
   "cell_type": "markdown",
   "metadata": {},
   "source": [
    "### F7 : Liczba zarezerwowanych lekcji dla wskazanego nauczyciela w podanym dniu\n",
    "\n",
    "Oczekiwany wynik: 3\n",
    "\n",
    "Sprawdzamy ile lekcji pani **Kowalska** ma w **poniedziałki**"
   ]
  },
  {
   "cell_type": "code",
   "execution_count": 8,
   "metadata": {},
   "outputs": [
    {
     "name": "stdout",
     "output_type": "stream",
     "text": [
      "3\n"
     ]
    }
   ],
   "source": [
    "from main import teacher_on_weekday\n",
    "poniedzialek = 0\n",
    "with app.app_context():\n",
    "    print(teacher_on_weekday(db, \"Kowalska\", poniedzialek))"
   ]
  },
  {
   "cell_type": "markdown",
   "metadata": {},
   "source": [
    "### F7 : Lista zarezerwowanych lekcji dla wskazanego nauczyciela w podanym dniu\n",
    "\n",
    "Funkcja zwraca:\n",
    "* nauczany przedmiot\n",
    "* datę lekcji\n",
    "* nazwisko uczonego studenta\n",
    "\n",
    "Sprawdzamy lekcje pani **Kowalskiej** w **poniedziałki**"
   ]
  },
  {
   "cell_type": "code",
   "execution_count": 9,
   "metadata": {},
   "outputs": [
    {
     "name": "stdout",
     "output_type": "stream",
     "text": [
      "{'date': datetime.datetime(2024, 12, 9, 10, 0), 'subject': 'matematyka', 'student': 'Nowak'}\n",
      "{'date': datetime.datetime(2024, 12, 9, 12, 0), 'subject': 'fizyka', 'student': 'Nowak'}\n",
      "{'date': datetime.datetime(2024, 12, 16, 10, 0), 'subject': 'matematyka', 'student': 'Nowak'}\n"
     ]
    }
   ],
   "source": [
    "from main import teacher_on_weekday_list\n",
    "poniedzialek = 0\n",
    "with app.app_context():\n",
    "    for lesson in teacher_on_weekday_list(db, \"Kowalska\", poniedzialek):\n",
    "        print(lesson)"
   ]
  }
 ],
 "metadata": {
  "kernelspec": {
   "display_name": "flask_arius",
   "language": "python",
   "name": "python3"
  },
  "language_info": {
   "codemirror_mode": {
    "name": "ipython",
    "version": 3
   },
   "file_extension": ".py",
   "mimetype": "text/x-python",
   "name": "python",
   "nbconvert_exporter": "python",
   "pygments_lexer": "ipython3",
   "version": "3.11.9"
  }
 },
 "nbformat": 4,
 "nbformat_minor": 2
}
